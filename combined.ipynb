{
 "cells": [
  {
   "cell_type": "code",
   "execution_count": 1,
   "metadata": {
    "ExecuteTime": {
     "end_time": "2020-06-29T16:35:43.665788Z",
     "start_time": "2020-06-29T16:35:43.004963Z"
    }
   },
   "outputs": [],
   "source": [
    "import datetime\n",
    "from IPython.display import display\n",
    "import numpy as np\n",
    "import pandas as pd\n",
    "import matplotlib.pyplot as plt\n",
    "import seaborn as sns\n",
    "import warnings\n",
    "import pickle\n",
    "%matplotlib inline\n",
    "\n",
    "\n",
    "import logging\n",
    "logging.basicConfig(level=logging.INFO)"
   ]
  },
  {
   "cell_type": "code",
   "execution_count": 6,
   "metadata": {
    "ExecuteTime": {
     "end_time": "2020-06-29T16:36:13.737402Z",
     "start_time": "2020-06-29T16:36:13.521412Z"
    }
   },
   "outputs": [],
   "source": [
    "#%load_ext autoreload\n",
    "#%autoreload 2\n",
    "import c14\n",
    "import c14.models.liver\n",
    "import c14.models.liver_nonhepato\n",
    "import c14.models.minimal\n",
    "import c14.corner\n",
    "import arviz as az\n"
   ]
  },
  {
   "cell_type": "markdown",
   "metadata": {},
   "source": [
    "# Load Models"
   ]
  },
  {
   "cell_type": "code",
   "execution_count": 3,
   "metadata": {
    "ExecuteTime": {
     "end_time": "2020-06-29T16:35:47.696620Z",
     "start_time": "2020-06-29T16:35:47.689148Z"
    }
   },
   "outputs": [
    {
     "data": {
      "text/plain": [
       "[c14.models.minimal.POP1,\n",
       " c14.models.minimal.POP1q,\n",
       " c14.models.liver_nonhepato.POP2]"
      ]
     },
     "execution_count": 3,
     "metadata": {},
     "output_type": "execute_result"
    }
   ],
   "source": [
    "c14.models.liver_nonhepato.models_list "
   ]
  },
  {
   "cell_type": "code",
   "execution_count": 4,
   "metadata": {
    "ExecuteTime": {
     "end_time": "2020-06-29T16:35:51.910727Z",
     "start_time": "2020-06-29T16:35:50.166181Z"
    }
   },
   "outputs": [
    {
     "name": "stderr",
     "output_type": "stream",
     "text": [
      "ERROR:c14.models.base:Default logparas missing. \n",
      "ERROR:c14.models.base:No linparas -> assuming all are logparas. \n",
      "ERROR:c14.models.base:Default linparas missing. Assuming all are logparas\n",
      "ERROR:c14.models.base:Default parameters missing sigma added automatikcally with limits 0,0.2\n",
      "ERROR:c14.models.base:Default parameters missing sigma added automatikcally with limits 0,0.2\n",
      "ERROR:c14.models.base:Default parameters missing sigma added automatikcally with limits 0,0.2\n"
     ]
    },
    {
     "name": "stdout",
     "output_type": "stream",
     "text": [
      "POP1q\n",
      "POP2\n"
     ]
    }
   ],
   "source": [
    "np.seterr(all='ignore')\n",
    "results= dict()\n",
    "NUM=2\n",
    "#models_lista = ['R', 'R_kappa_wo_limit', 'R_kappa_wo_limit_k42_free']\n",
    "#models_listb = [ 'D','L','R2K24']\n",
    "#models_listc = [eval('c14.models.liver.'+mm) for mm in models_lista + models_listb]\n",
    "for mm in c14.models.liver_nonhepato.models_list:\n",
    "    m = mm()\n",
    "    name = m.__class__.__name__\n",
    "    try:\n",
    "        with open('/scratch/ws/jrode-c14_liver/runs_uns/'+name+'_'+str(NUM)+ '.pickle', 'rb') as handle:\n",
    "            res = pickle.load(handle)\n",
    "    except FileNotFoundError:\n",
    "        print(m.__class__.__name__)\n",
    "        continue\n",
    "    results[m.__class__.__name__] = {'res':res,'m':m}"
   ]
  },
  {
   "cell_type": "code",
   "execution_count": 5,
   "metadata": {
    "ExecuteTime": {
     "end_time": "2020-06-29T16:35:53.208864Z",
     "start_time": "2020-06-29T16:35:52.878333Z"
    }
   },
   "outputs": [
    {
     "name": "stdout",
     "output_type": "stream",
     "text": [
      "1  chains are stuck\n",
      "POP1\n",
      "WARN: The number of effective samples is smaller than 10% for some parameters.\n",
      "\n",
      "\n"
     ]
    }
   ],
   "source": [
    "import arviz as az\n",
    "burnin=1000\n",
    "age = None\n",
    "remove_stuck=True\n",
    "for n,v in results.items():\n",
    "    v['azdata'],v['azdata_names'] = c14.tools.convert_to_arviz(v['res'],v['m'],burnin,remove_stuck=remove_stuck,iparas_time=age,phy_space=False)\n",
    "    v['pe'] = c14.tools.find_point_estimate(v['res'],v['m'])\n",
    "    chsck = c14.tools.run_convergence_checks(v['azdata'])\n",
    "    print(n)\n",
    "    for i in chsck:\n",
    "        print(i)\n",
    "    print('\\n')"
   ]
  },
  {
   "cell_type": "markdown",
   "metadata": {},
   "source": [
    "# model compression"
   ]
  },
  {
   "cell_type": "code",
   "execution_count": 13,
   "metadata": {
    "ExecuteTime": {
     "end_time": "2020-04-18T08:17:23.387017Z",
     "start_time": "2020-04-18T08:17:20.975709Z"
    }
   },
   "outputs": [
    {
     "data": {
      "text/html": [
       "<div>\n",
       "<style scoped>\n",
       "    .dataframe tbody tr th:only-of-type {\n",
       "        vertical-align: middle;\n",
       "    }\n",
       "\n",
       "    .dataframe tbody tr th {\n",
       "        vertical-align: top;\n",
       "    }\n",
       "\n",
       "    .dataframe thead th {\n",
       "        text-align: right;\n",
       "    }\n",
       "</style>\n",
       "<table border=\"1\" class=\"dataframe\">\n",
       "  <thead>\n",
       "    <tr style=\"text-align: right;\">\n",
       "      <th></th>\n",
       "      <th>rank</th>\n",
       "      <th>loo</th>\n",
       "      <th>p_loo</th>\n",
       "      <th>d_loo</th>\n",
       "      <th>weight</th>\n",
       "      <th>se</th>\n",
       "      <th>dse</th>\n",
       "      <th>warning</th>\n",
       "      <th>loo_scale</th>\n",
       "    </tr>\n",
       "  </thead>\n",
       "  <tbody>\n",
       "    <tr>\n",
       "      <th>POP1</th>\n",
       "      <td>0</td>\n",
       "      <td>-25.6799</td>\n",
       "      <td>0.801153</td>\n",
       "      <td>0</td>\n",
       "      <td>1</td>\n",
       "      <td>2.63539</td>\n",
       "      <td>0</td>\n",
       "      <td>False</td>\n",
       "      <td>deviance</td>\n",
       "    </tr>\n",
       "  </tbody>\n",
       "</table>\n",
       "</div>"
      ],
      "text/plain": [
       "     rank      loo     p_loo d_loo weight       se dse warning loo_scale\n",
       "POP1    0 -25.6799  0.801153     0      1  2.63539   0   False  deviance"
      ]
     },
     "execution_count": 13,
     "metadata": {},
     "output_type": "execute_result"
    }
   ],
   "source": [
    "az.compare({n:v['azdata'] for n,v in results.items()},ic='loo')"
   ]
  },
  {
   "cell_type": "markdown",
   "metadata": {},
   "source": [
    "# Posterior plot"
   ]
  },
  {
   "cell_type": "code",
   "execution_count": 7,
   "metadata": {
    "ExecuteTime": {
     "end_time": "2020-06-29T16:36:33.017284Z",
     "start_time": "2020-06-29T16:36:23.217715Z"
    }
   },
   "outputs": [
    {
     "name": "stdout",
     "output_type": "stream",
     "text": [
      "1  chains are stuck\n"
     ]
    },
    {
     "name": "stderr",
     "output_type": "stream",
     "text": [
      "WARNING:rpy2.rinterface_lib.callbacks:R[write to console]: Loading required package: ks\n",
      "\n"
     ]
    },
    {
     "name": "stdout",
     "output_type": "stream",
     "text": [
      "POP1\n",
      "WARN: The number of effective samples is smaller than 10% for some parameters.\n",
      "\n",
      "\n"
     ]
    },
    {
     "name": "stderr",
     "output_type": "stream",
     "text": [
      "WARNING:rpy2.rinterface_lib.callbacks:R[write to console]: Loading required package: gplots\n",
      "\n",
      "WARNING:rpy2.rinterface_lib.callbacks:R[write to console]: \n",
      "Attaching package: ‘gplots’\n",
      "\n",
      "\n",
      "WARNING:rpy2.rinterface_lib.callbacks:R[write to console]: The following object is masked from ‘package:stats’:\n",
      "\n",
      "    lowess\n",
      "\n",
      "\n",
      "/home/julian/pythonenv/c14/lib/python3.7/site-packages/ipykernel_launcher.py:29: UserWarning: Matplotlib is currently using module://ipykernel.pylab.backend_inline, which is a non-GUI backend, so cannot show the figure.\n"
     ]
    },
    {
     "data": {
      "image/png": "[encoded data removed]",
      "text/plain": [
       "<Figure size 299.52x299.52 with 3 Axes>"
      ]
     },
     "metadata": {},
     "output_type": "display_data"
    }
   ],
   "source": [
    "import jr.plot\n",
    "import arviz as az\n",
    "burnin=1000\n",
    "age = None\n",
    "remove_stuck=True\n",
    "for n,v in results.items():\n",
    "    v['pe'] = c14.tools.find_point_estimate(v['res'],v['m'])\n",
    "    v['azdata'],v['azdata_names'] = c14.tools.convert_to_arviz(v['res'],v['m'],burnin,remove_stuck=remove_stuck,iparas_time=age,phy_space=False)\n",
    "    chsck = c14.tools.run_convergence_checks(v['azdata'])\n",
    "    print(n)\n",
    "    for i in chsck:\n",
    "        print(i)\n",
    "    print('\\n')\n",
    "    \n",
    "from matplotlib import rcParams,rc\n",
    "import seaborn as sb\n",
    "from mpl_toolkits.axes_grid1 import make_axes_locatable\n",
    "fonts = 1\n",
    "sb.set(context=\"paper\",style='ticks',font_scale=fonts)\n",
    "para_rename={'lambda_':r\"$\\delta_1$\",'dlambda':r\"$\\Delta\\delta_1$\",'sigma':r\"$\\sigma$\",\n",
    "            'kappa24':r\"$\\kappa_{24}$\",'kappa42':r\"$\\kappa_{42}$\",\n",
    "             'delta2':r\"$\\delta_2$\",'delta4':r\"$\\delta_4$\",\n",
    "            'f':r\"f\",'lambda1':r\"$\\delta_1$\"}\n",
    "for n,v in results.items():  \n",
    "    c14.corner.corner_R(v['azdata'].posterior.a.values,\n",
    "                   v['m'].parameter_names,burnin=0,point_estimate=None,rename=para_rename,\n",
    "                     logparas=['delta4','delta2','lambda_','dlambda','kappa24','kappa42'])    \n",
    "    f = plt.gcf()\n",
    "    f.show();\n",
    "    #f.suptitle('hepato ' + n,fontsize=30)\n",
    "    f.savefig('unsorted'+n+'.png',dpi=600)"
   ]
  },
  {
   "cell_type": "code",
   "execution_count": 17,
   "metadata": {
    "ExecuteTime": {
     "end_time": "2020-04-18T08:18:11.902659Z",
     "start_time": "2020-04-18T08:18:11.882150Z"
    }
   },
   "outputs": [],
   "source": [
    "def median_sd(x):\n",
    "     median = np.percentile(x, 50)\n",
    "     sd = np.sqrt(np.mean((x-median)**2))\n",
    "     return sd\n",
    "func_dict = {\n",
    "     \"std\": np.std,\n",
    "     \"median_std\": median_sd,\n",
    "     \"percentile.1585\": lambda x: np.percentile(x, 15.85),\n",
    "     \"median\": lambda x: np.percentile(x, 50),\n",
    "     \"percentile.8415\": lambda x: np.percentile(x, 84.15),\n",
    "}"
   ]
  },
  {
   "cell_type": "code",
   "execution_count": 18,
   "metadata": {
    "ExecuteTime": {
     "end_time": "2020-04-18T08:18:15.676533Z",
     "start_time": "2020-04-18T08:18:11.912737Z"
    }
   },
   "outputs": [
    {
     "name": "stderr",
     "output_type": "stream",
     "text": [
      "ERROR:c14.models.base:Default logparas missing. \n",
      "ERROR:c14.models.base:No linparas -> assuming all are logparas. \n",
      "ERROR:c14.models.base:Default linparas missing. Assuming all are logparas\n",
      "ERROR:c14.models.base:Default parameters missing sigma added automatikcally with limits 0,0.2\n"
     ]
    },
    {
     "name": "stdout",
     "output_type": "stream",
     "text": [
      "finish,\n",
      "1  chains are stuck\n"
     ]
    },
    {
     "name": "stderr",
     "output_type": "stream",
     "text": [
      "INFO:numexpr.utils:NumExpr defaulting to 4 threads.\n"
     ]
    }
   ],
   "source": [
    "for n,v in results.items():\n",
    "    print('finish,')\n",
    "    all_times=[]\n",
    "    #ages=[0,10,20,30,40,50,60,70,80]\n",
    "    #ages = np.linspace(0,80,41)\n",
    "    ages=[0]\n",
    "    m = eval('c14.models.liver_nonhepato.'+n+'()')\n",
    "    for age in ages:\n",
    "        burnin=1000\n",
    "        remove_stuck=True\n",
    "        azdata,azdata_names = c14.tools.convert_to_arviz(v['res'],v['m'],burnin,remove_stuck=remove_stuck,iparas_time=age)\n",
    "        summary = az.summary(azdata,round_to=8,credible_interval=0.683,stat_funcs=func_dict)\n",
    "        summary.index = azdata_names\n",
    "        real_median = {pn:summary.loc[pn,'median'] for pn in m.parameter_names}\n",
    "        m.set_parameters_phy(real_median)\n",
    "        real_median.update(m.calc_implicit_parameters(age))\n",
    "        summary['real_median'] = pd.Series(real_median)\n",
    "        all_times.append(summary)\n",
    "    df = pd.concat(all_times)\n",
    "    df.index = pd.MultiIndex.from_product([ages,azdata_names],names=['time','para'])\n",
    "    with pd.HDFStore('final_v2_uns_'+n+'_'+str(NUM)+'.pandas') as st:\n",
    "        st['df'] = df\n",
    "    v['allparas'] = df"
   ]
  },
  {
   "cell_type": "code",
   "execution_count": 19,
   "metadata": {
    "ExecuteTime": {
     "end_time": "2020-04-18T08:18:16.141608Z",
     "start_time": "2020-04-18T08:18:15.692613Z"
    }
   },
   "outputs": [],
   "source": [
    "excel_writer = pd.ExcelWriter('unsorted_final_v2.xlsx')\n",
    "\n",
    "for n,v in results.items():\n",
    "    df = v['allparas'][['real_median','hpd_15.85%','hpd_84.15%']].unstack().rename(columns={'hpd_15.85%':'lower','hpd_84.15%':'upper'})\n",
    "    df_new=df.copy()\n",
    "    cols = df_new.columns\n",
    "    new_cols = [(i2,i1) for i1,i2 in cols]\n",
    "    df_new.columns=pd.MultiIndex.from_tuples(new_cols)\n",
    "    df_new=df_new.reindex(sorted(df_new.columns), axis=1)\n",
    "    \n",
    "    df_new.to_excel(excel_writer=excel_writer,sheet_name=n)\n",
    "excel_writer.save()"
   ]
  }
 ],
 "metadata": {
  "kernelspec": {
   "display_name": "c14",
   "language": "python",
   "name": "c14"
  },
  "language_info": {
   "codemirror_mode": {
    "name": "ipython",
    "version": 3
   },
   "file_extension": ".py",
   "mimetype": "text/x-python",
   "name": "python",
   "nbconvert_exporter": "python",
   "pygments_lexer": "ipython3",
   "version": "3.7.7"
  },
  "toc": {
   "base_numbering": 1,
   "nav_menu": {},
   "number_sections": true,
   "sideBar": true,
   "skip_h1_title": false,
   "title_cell": "Table of Contents",
   "title_sidebar": "Contents",
   "toc_cell": false,
   "toc_position": {},
   "toc_section_display": "block",
   "toc_window_display": false
  }
 },
 "nbformat": 4,
 "nbformat_minor": 4
}
