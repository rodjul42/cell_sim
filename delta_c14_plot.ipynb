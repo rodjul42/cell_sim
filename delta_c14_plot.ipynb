{
 "cells": [
  {
   "cell_type": "code",
   "execution_count": 1,
   "metadata": {
    "ExecuteTime": {
     "end_time": "2020-06-29T16:40:01.375553Z",
     "start_time": "2020-06-29T16:40:00.253982Z"
    }
   },
   "outputs": [],
   "source": [
    "import datetime\n",
    "from IPython.display import display\n",
    "import numpy as np\n",
    "import pandas as pd\n",
    "import matplotlib.pyplot as plt\n",
    "import seaborn as sns\n",
    "import warnings\n",
    "import pickle\n",
    "%matplotlib inline\n",
    "\n",
    "\n",
    "import logging\n",
    "\n",
    "logging.basicConfig(level=logging.INFO)"
   ]
  },
  {
   "cell_type": "code",
   "execution_count": 2,
   "metadata": {
    "ExecuteTime": {
     "end_time": "2020-06-29T16:40:02.412032Z",
     "start_time": "2020-06-29T16:40:02.111520Z"
    }
   },
   "outputs": [],
   "source": [
    "%load_ext autoreload\n",
    "%autoreload 2\n",
    "import c14\n",
    "import c14.models.liver\n",
    "import c14.models.minimal\n"
   ]
  },
  {
   "cell_type": "code",
   "execution_count": 3,
   "metadata": {
    "ExecuteTime": {
     "end_time": "2020-06-29T16:40:03.988776Z",
     "start_time": "2020-06-29T16:40:03.782425Z"
    }
   },
   "outputs": [
    {
     "name": "stderr",
     "output_type": "stream",
     "text": [
      "INFO:numexpr.utils:NumExpr defaulting to 4 threads.\n",
      "ERROR:c14.models.base:Default logparas missing. \n",
      "ERROR:c14.models.base:No linparas -> assuming all are logparas. \n",
      "ERROR:c14.models.base:Default linparas missing. Assuming all are logparas\n",
      "ERROR:c14.models.base:Default parameters missing sigma added automatikcally with limits 0,0.2\n",
      "ERROR:c14.models.base:Default logparas missing. \n",
      "ERROR:c14.models.base:No linparas -> assuming all are logparas. \n",
      "ERROR:c14.models.base:Default linparas missing. Assuming all are logparas\n",
      "ERROR:c14.models.base:Default parameters missing sigma added automatikcally with limits 0,0.2\n"
     ]
    }
   ],
   "source": [
    "import c14.models.liver as lm\n",
    "\n",
    "ploidy=lm.R().ploidy\n",
    "ploidy2x2=lm.R().ploidy2x2\n",
    "def measurement_model_n2(age, row):\n",
    "    wn2 = ploidy(age) / (ploidy(age) + 2*ploidy2x2(age))\n",
    "    \n",
    "    wn4 = 2*ploidy2x2(age)/ (ploidy(age) + 2*ploidy2x2(age))\n",
    "    average = (row.loc['n2']*wn2  + row.loc['n4']*wn4 )\n",
    "    return average\n",
    "\n",
    "def measurement_model_n4(age, row):\n",
    "    wn2 = 0\n",
    "    \n",
    "    wn4 = 1\n",
    "    average = (row.loc['n2']*wn2  + row.loc['n4']*wn4 )\n",
    "    return average\n",
    "\n",
    "def measurement_model_n2n4(age, row):\n",
    "    wn2 =  ploidy(age) / (ploidy(age)+ 2*(1-ploidy(age)))\n",
    "    wn4 = 2*(1-ploidy(age)) / (ploidy(age) + 2*(1-ploidy(age)))\n",
    "    average = (row.loc['n2']*wn2  + row.loc['n4']*wn4 )\n",
    "    return average"
   ]
  },
  {
   "cell_type": "code",
   "execution_count": null,
   "metadata": {
    "ExecuteTime": {
     "end_time": "2020-03-11T12:09:33.975562Z",
     "start_time": "2020-03-11T12:09:33.945963Z"
    }
   },
   "outputs": [],
   "source": []
  },
  {
   "cell_type": "code",
   "execution_count": 4,
   "metadata": {
    "ExecuteTime": {
     "end_time": "2020-06-29T16:43:27.622997Z",
     "start_time": "2020-06-29T16:43:16.202303Z"
    }
   },
   "outputs": [
    {
     "name": "stderr",
     "output_type": "stream",
     "text": [
      "ERROR:c14.models.base:Default logparas missing. \n",
      "ERROR:c14.models.base:No linparas -> assuming all are logparas. \n",
      "ERROR:c14.models.base:Default linparas missing. Assuming all are logparas\n",
      "ERROR:c14.models.base:Default parameters missing sigma added automatikcally with limits 0,0.2\n"
     ]
    }
   ],
   "source": [
    "data = pd.read_csv('../data/C14data_liver_samples_20200526.csv')\n",
    "data = data.groupby(['type', 'sample', 'ploidy', 'pathology']).mean().dropna(how='all').reset_index()\n",
    "#data['Dbirth'] -= 0.5\n",
    "data['age'] = data['Dcoll'] - data['Dbirth']\n",
    "data = data.query('type == \"hepatocyte\" and pathology != [\"Y\", \"C\"]' )\n",
    "\n",
    "datan2 = data.query('type == \"hepatocyte\" and pathology != [\"Y\", \"C\"] and ploidy==\"2n\"' )\n",
    "edatan2 = c14.exp_data(datan2)\n",
    "\n",
    "datan4 = data.query('type == \"hepatocyte\" and pathology != [\"Y\", \"C\"] and ploidy==\"4n\"' )\n",
    "edatan4 = c14.exp_data(datan4)\n",
    "\n",
    "datan2n4 = data.query('type == \"hepatocyte\" and pathology != [\"Y\", \"C\"] and ploidy==\"2n4n\"' )\n",
    "edatan2n4 = c14.exp_data(datan2n4)\n",
    "\n",
    "with pd.HDFStore('final_v3_hepaR_0.pandas') as st:\n",
    "        df = st['df']\n",
    "\n",
    "        \n",
    "m = c14.models.liver.R()\n",
    "pe = m.transform_physical_to_fit({i:df.loc[(0,i)]['median'] for i in m.default_parameters})\n",
    "m.set_parameters_fit(pe)\n",
    "\n",
    "visn2 = c14.visualisze(model=m,data=edatan2,step_size=0.1)\n",
    "opn2 = c14.optimize(model=m,data=edatan2,step_size=0.1)\n",
    "visn2.odeint();\n",
    "\n",
    "visn4 = c14.visualisze(model=m,data=edatan4,step_size=0.1)\n",
    "opn4 = c14.optimize(model=m,data=edatan4,step_size=0.1)\n",
    "visn4.odeint();\n",
    "\n",
    "visn2n4 = c14.visualisze(model=m,data=edatan2n4,step_size=0.1)\n",
    "opn2n4 = c14.optimize(model=m,data=edatan2n4,step_size=0.1)\n",
    "visn2n4.odeint();\n",
    "\n"
   ]
  },
  {
   "cell_type": "code",
   "execution_count": null,
   "metadata": {
    "ExecuteTime": {
     "end_time": "2020-03-27T11:26:33.192337Z",
     "start_time": "2020-03-27T11:26:33.176015Z"
    }
   },
   "outputs": [],
   "source": [
    "\n",
    "    "
   ]
  },
  {
   "cell_type": "code",
   "execution_count": 5,
   "metadata": {
    "ExecuteTime": {
     "end_time": "2020-06-29T16:43:34.120233Z",
     "start_time": "2020-06-29T16:43:33.922228Z"
    }
   },
   "outputs": [],
   "source": [
    "y = np.arange(1900,2020,0.5)\n",
    "dd=pd.DataFrame(m.Catm.lin(y),index=pd.Index(y,name='year'),columns=['atm c14 + fooddelay']).reset_index()\n",
    "dd.to_excel('atm.xlsx')"
   ]
  },
  {
   "cell_type": "code",
   "execution_count": 6,
   "metadata": {
    "ExecuteTime": {
     "end_time": "2020-06-29T16:43:53.510603Z",
     "start_time": "2020-06-29T16:43:40.696558Z"
    }
   },
   "outputs": [],
   "source": [
    "collection_years = [2004.833333,2012.5,2017.4583333333335]\n",
    "\n",
    "excel_writer = pd.ExcelWriter('model_prediction.xlsx')\n",
    "for n,VIS,optimizer in zip(['2n','4n','2n4n'],[visn2,visn4,visn2n4],[opn2,opn4,opn2n4]):\n",
    "    simd = pd.Series(optimizer.calc_sim_data_dict(pe),index=VIS.data.df.Dbirth)\n",
    "\n",
    "for n,VIS,mapfunction,optimizer in zip(['2n','4n','2n4n'],[visn2,visn4,visn2n4],\\\n",
    "    [measurement_model_n2,measurement_model_n4,measurement_model_n2n4],[opn2,opn4,opn2n4]):\n",
    "    \n",
    "    A=pd.Series(optimizer.calc_sim_data_dict(pe),name='simulation d14c')\n",
    "    B=pd.Series(VIS.data.df.d14C,name='data d14c')\n",
    "    C=pd.Series(VIS.data.df.Dbirth,name='birth')\n",
    "    D=pd.Series(VIS.data.df.Dcoll,name='collection')\n",
    "    data_sim = pd.concat([A,B,C,D],axis=1)\n",
    "    data_sim.to_excel(excel_writer=excel_writer,sheet_name=n+' data')\n",
    "    \n",
    "    measure_sim = []\n",
    "    for idx, row in VIS.solpd.iterrows():\n",
    "        measure_sim.append(mapfunction(idx,row))\n",
    "    measure_sim = pd.DataFrame(measure_sim)\n",
    "    model_pred = []\n",
    "    for collyear in collection_years:\n",
    "        age = collyear - VIS.Dbirth\n",
    "        dfa = measure_sim.reindex(age, method='nearest')\n",
    "        mask = np.logical_and(age<VIS.age,VIS.Dbirth<=collyear)\n",
    "        model_pred.append(pd.Series(np.diag(dfa)[mask],index=pd.Index(VIS.Dbirth[mask],name='Birth date'),name=f'Collection year {collyear}'))\n",
    "    model_pred = pd.concat(model_pred,axis=1)\n",
    "    model_pred.to_excel(excel_writer=excel_writer,sheet_name=n+' model')\n",
    "excel_writer.save()"
   ]
  },
  {
   "cell_type": "code",
   "execution_count": 7,
   "metadata": {
    "ExecuteTime": {
     "end_time": "2020-06-29T16:44:04.616033Z",
     "start_time": "2020-06-29T16:43:53.515258Z"
    }
   },
   "outputs": [
    {
     "data": {
      "image/png": "[encoded data removed]",
      "text/plain": [
       "<Figure size 1063.38x265.846 with 3 Axes>"
      ]
     },
     "metadata": {
      "needs_background": "light"
     },
     "output_type": "display_data"
    }
   ],
   "source": [
    "import matplotlib as mpl\n",
    "from mpl_toolkits.axes_grid1 import make_axes_locatable\n",
    "from matplotlib.lines import Line2D\n",
    "from matplotlib import colors\n",
    "plt.figure(11,figsize=[6.4*3/1.3, 4.8/1.3])\n",
    "sh=(1,3)\n",
    "ax1 = plt.subplot2grid(sh,(0,0))\n",
    "ax2 = plt.subplot2grid(sh,(0,1))\n",
    "ax3 = plt.subplot2grid(sh,(0,2))\n",
    "\n",
    "ax1.set_title('2n')\n",
    "ax2.set_title('4n')\n",
    "ax3.set_title('2n4n')\n",
    "\n",
    "\n",
    "\n",
    "cmap = colors.ListedColormap(['tab:blue', 'tab:orange', 'tab:green', 'tab:red', 'tab:purple', 'tab:brown'])\n",
    "bounds=[2004,2012,2016,2017,2018,2019,2020]\n",
    "norm = colors.BoundaryNorm(bounds, cmap.N)\n",
    "sm = plt.cm.ScalarMappable(cmap=cmap, norm=norm)\n",
    "sm.set_array([])\n",
    "\n",
    "#divider = make_axes_locatable(ax3)\n",
    "#cax = divider.append_axes(position='right', size='2%', pad=0.1)\n",
    "#plt.colorbar(sm, cax=cax)\n",
    "#cax.set_ylabel('Collection date')\n",
    "m1='o'\n",
    "m2='x'\n",
    "s1=40\n",
    "s2=30\n",
    "collection_years=[2004.833333,2012.5,2017.4583333333335]\n",
    "#visn2.plot_sim_birth(mapfunction=measurement_model_n2,axis=ax1,sm=sm,collection_years=collection_years)\n",
    "visn2.plot_data_measurment(opn2,pe,axis=ax1,sm=sm,marker1=m1,marker2=m2,size1=s1,size2=s2)\n",
    "\n",
    "#visn4.plot_sim_birth(mapfunction=measurement_model_n4,axis=ax2,sm=sm,collection_years=collection_years)\n",
    "visn4.plot_data_measurment(opn4,pe,axis=ax2,sm=sm,marker1=m1,marker2=m2,size1=s1,size2=s2)\n",
    "\n",
    "#visn2n4.plot_sim_birth(mapfunction=measurement_model_n2n4,axis=ax3,sm=sm,collection_years=collection_years)\n",
    "visn2n4.plot_data_measurment(opn2n4,pe,axis=ax3,sm=sm,marker1=m1,marker2=m2,size1=s1,size2=s2)\n",
    "\n",
    "lims = np.array([ax1.get_ylim(),ax2.get_ylim(),ax3.get_ylim(),(-0.05,0.3)])\n",
    "yl = (lims.min(),lims.max())\n",
    "\n",
    "a = np.linspace(1930,2020,1000)\n",
    "ax1.plot(a,m.Catm.lin(a),':',color='gray')\n",
    "ax2.plot(a,m.Catm.lin(a),':',color='gray')\n",
    "ax3.plot(a,m.Catm.lin(a),':',color='gray')\n",
    "#yl = (m.Catm.lin(a).min(),m.Catm.lin(a).max()*1.01)\n",
    "\n",
    "ax2.set_ylabel('')\n",
    "ax3.set_ylabel('')\n",
    "ax2.set_yticklabels('')\n",
    "ax3.set_yticklabels('')\n",
    "\n",
    "\n",
    "\n",
    "plt.tight_layout(w_pad=0)\n",
    "plt.subplots_adjust(wspace=0.018)\n",
    "ax1.set_ylim(yl)\n",
    "ax2.set_ylim(yl)\n",
    "ax3.set_ylim(yl)\n",
    "\n",
    "\n",
    "ax1.set_xlim(data.Dbirth.min()-5,2020)#data.Dbirth.max()+5+15)\n",
    "ax2.set_xlim(ax1.get_xlim())\n",
    "ax3.set_xlim(ax1.get_xlim())\n",
    "custom_lines = [Line2D([0], [0], color='black',marker=m1,lw=0 ),\n",
    "                Line2D([0], [0], color='black',marker=m2,lw=0 ),\n",
    "                Line2D([0], [0], color='black',lw=0,alpha=1 ),\n",
    "                Line2D([0], [0], color=sm.to_rgba(2004),marker='s', lw=0),\n",
    "                Line2D([0], [0], color=sm.to_rgba(2012),marker='s', lw=0)]+\\\n",
    "                [Line2D([0], [0], color=sm.to_rgba(y),marker='s', lw=0) for y in range(2016,2020)]\n",
    "l=ax3.legend(custom_lines, ['Data','Model','Collection year','2004', '2012']+list(range(2016,2020)),\\\n",
    "          bbox_to_anchor=(1, 0.9),frameon=True,title='')\n",
    "t =l.get_texts()[2]\n",
    "t.set_position((-28,0))\n",
    "plt.savefig('./model_data_comp2.pdf', bbox_inches='tight')\n",
    "plt.savefig('./model_data_comp2.png', bbox_inches='tight', dpi=600)"
   ]
  }
 ],
 "metadata": {
  "kernelspec": {
   "display_name": "c14",
   "language": "python",
   "name": "c14"
  },
  "language_info": {
   "codemirror_mode": {
    "name": "ipython",
    "version": 3
   },
   "file_extension": ".py",
   "mimetype": "text/x-python",
   "name": "python",
   "nbconvert_exporter": "python",
   "pygments_lexer": "ipython3",
   "version": "3.7.7"
  },
  "toc": {
   "base_numbering": 1,
   "nav_menu": {},
   "number_sections": true,
   "sideBar": true,
   "skip_h1_title": false,
   "title_cell": "Table of Contents",
   "title_sidebar": "Contents",
   "toc_cell": false,
   "toc_position": {},
   "toc_section_display": true,
   "toc_window_display": false
  }
 },
 "nbformat": 4,
 "nbformat_minor": 4
}
